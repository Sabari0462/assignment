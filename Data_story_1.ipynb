{
 "cells": [
  {
   "cell_type": "markdown",
   "id": "1b8ea0ec",
   "metadata": {},
   "source": [
    "datasetlink : https://www.kaggle.com/itssuru/super-store \n",
    "\n",
    "The above one is dataset link which I have choosen from kaggle website "
   ]
  },
  {
   "cell_type": "markdown",
   "id": "8a64059f",
   "metadata": {},
   "source": [
    "# Importing the libraries"
   ]
  },
  {
   "cell_type": "code",
   "execution_count": 1,
   "id": "491fc793",
   "metadata": {},
   "outputs": [],
   "source": [
    "import pandas as pd\n",
    "import seaborn as sns\n",
    "import numpy as np\n",
    "\n",
    "import matplotlib.pyplot as plt\n",
    "%matplotlib inline\n",
    "\n",
    "import warnings\n",
    "warnings.filterwarnings('ignore')"
   ]
  },
  {
   "cell_type": "markdown",
   "id": "dca37a20",
   "metadata": {},
   "source": [
    "# Defining the functions"
   ]
  },
  {
   "cell_type": "code",
   "execution_count": 2,
   "id": "8c7a0434",
   "metadata": {},
   "outputs": [],
   "source": [
    "def data_loading(file_name):\n",
    "    '''This Function is for reading the data and finally it return the data frame also'''\n",
    "    data = pd.read_csv(file_name)\n",
    "    return data"
   ]
  },
  {
   "cell_type": "code",
   "execution_count": 3,
   "id": "351aa799",
   "metadata": {},
   "outputs": [],
   "source": [
    "def pre_processing(data):\n",
    "    '''This function print the shape of data and it prints the null values count'''\n",
    "    shape = data.shape\n",
    "    print(\"Shape of Data Frame is\" , shape)\n",
    "    Null_values_count = data.isnull().sum()\n",
    "    print(\"Null Values Count in this data frame\",Null_values_count)"
   ]
  },
  {
   "cell_type": "code",
   "execution_count": 4,
   "id": "612d02e5",
   "metadata": {},
   "outputs": [],
   "source": [
    "def get_statistics(data):\n",
    "    '''This function provides the statistics of data after taking the data frame'''\n",
    "    print(data.describe())"
   ]
  },
  {
   "cell_type": "code",
   "execution_count": 5,
   "id": "766142de",
   "metadata": {},
   "outputs": [],
   "source": [
    "def countplot(column,title):\n",
    "    '''This function provides the count plot for providing this plot it takes the column name that is \n",
    "    present in data frame and title'''\n",
    "    \n",
    "    sns.countplot(column)\n",
    "    plt.title(title)"
   ]
  },
  {
   "cell_type": "code",
   "execution_count": 6,
   "id": "69da8067",
   "metadata": {},
   "outputs": [],
   "source": [
    "def pie_chart(labels,list,title):\n",
    "    '''This function provides the pie chart afer taking the lables and their values and title for graph'''\n",
    "    explode = (0.1,0.1,0.1,0.1,0.1,0.1,0.1,0.1,0.1,0.1,0.1,0.1,0.1,0.1,0.1,0.1,0.1,0.1,0.1,0.1,0.1,0.1,0.1,0.1)\n",
    "    le = len(list)\n",
    "    plt.figure()\n",
    "    plt.pie(list , labels = labels ,shadow = True ,explode = (0.1,0.1,0.1) ,autopct = '%1.2f%%')\n",
    "    plt.title(title)\n",
    "    plt.show()\n",
    "\n",
    "    \n",
    "    "
   ]
  },
  {
   "cell_type": "code",
   "execution_count": 7,
   "id": "210a80f3",
   "metadata": {},
   "outputs": [],
   "source": [
    "def boxplot(x, y,data,title):\n",
    "    '''This provides the box plot by considering the columns data and title for graph'''\n",
    "    sns.boxplot(data=data,x=x,y=y)\n",
    "    plt.title(title)\n",
    "    "
   ]
  },
  {
   "cell_type": "code",
   "execution_count": 8,
   "id": "7a8942ed",
   "metadata": {},
   "outputs": [],
   "source": [
    "def bargraph(y_pos,performance,objects,x_label,y_label,alpha,title):\n",
    "    '''This function provides the bar graph with center alignment(by default). This function takes the y_pos and objects  and performance from the user\n",
    "    This function takes the x_label and y_label also from the user while calling the function and alpha value also and title for graph '''\n",
    "    plt.figure(figsize =(12,6))\n",
    "    plt.barh(y_pos,performance,align='center',alpha = alpha)\n",
    "    plt.yticks(y_pos,objects)\n",
    "    plt.xlabel(x_label)\n",
    "    plt.ylabel(y_label)\n",
    "    plt.title(title)\n",
    "    plt.show()\n",
    "    "
   ]
  },
  {
   "cell_type": "markdown",
   "id": "6cba0401",
   "metadata": {},
   "source": [
    "First I am going to read the data using data_loading function which is defined by me in the above cells and store that in df variable."
   ]
  },
  {
   "cell_type": "code",
   "execution_count": 9,
   "id": "c99148f1",
   "metadata": {},
   "outputs": [],
   "source": [
    "df = data_loading(\"C://Users//Dell//Desktop//super_store//SampleSuperstore.csv\")"
   ]
  },
  {
   "cell_type": "markdown",
   "id": "037913fd",
   "metadata": {},
   "source": [
    "Here I am going to call the preprocessing function to checking the data frame shape and null values count "
   ]
  },
  {
   "cell_type": "code",
   "execution_count": 10,
   "id": "1f4ed880",
   "metadata": {},
   "outputs": [
    {
     "name": "stdout",
     "output_type": "stream",
     "text": [
      "Shape of Data Frame is (9994, 13)\n",
      "Null Values Count in this data frame Ship Mode       0\n",
      "Segment         0\n",
      "Country         0\n",
      "City            0\n",
      "State           0\n",
      "Postal Code     0\n",
      "Region          0\n",
      "Category        0\n",
      "Sub-Category    0\n",
      "Sales           0\n",
      "Quantity        0\n",
      "Discount        0\n",
      "Profit          0\n",
      "dtype: int64\n"
     ]
    }
   ],
   "source": [
    "pre_processing(df)"
   ]
  },
  {
   "cell_type": "markdown",
   "id": "f74a2d71",
   "metadata": {},
   "source": [
    "Based upon the above data I came to know that data consists of 0 null values"
   ]
  },
  {
   "cell_type": "markdown",
   "id": "e08b631b",
   "metadata": {},
   "source": [
    "Here I am going to call the get_statistics method for knowing the basic statistics of data"
   ]
  },
  {
   "cell_type": "code",
   "execution_count": 11,
   "id": "f7f69227",
   "metadata": {},
   "outputs": [
    {
     "name": "stdout",
     "output_type": "stream",
     "text": [
      "        Postal Code         Sales     Quantity     Discount       Profit\n",
      "count   9994.000000   9994.000000  9994.000000  9994.000000  9994.000000\n",
      "mean   55190.379428    229.857901     3.789574     0.156203    28.656599\n",
      "std    32063.693350    623.245124     2.225110     0.206452   234.260115\n",
      "min     1040.000000      0.444000     1.000000     0.000000 -6599.978000\n",
      "25%    23223.000000     17.280000     2.000000     0.000000     1.728750\n",
      "50%    56430.500000     54.490000     3.000000     0.200000     8.666500\n",
      "75%    90008.000000    209.940000     5.000000     0.200000    29.364000\n",
      "max    99301.000000  22638.480000    14.000000     0.800000  8399.976000\n"
     ]
    }
   ],
   "source": [
    "get_statistics(df)"
   ]
  },
  {
   "cell_type": "markdown",
   "id": "176b431b",
   "metadata": {},
   "source": [
    "Based upon above data I am going to find the profit% by using the sales and profit column in dataframe"
   ]
  },
  {
   "cell_type": "code",
   "execution_count": 12,
   "id": "a23d0f54",
   "metadata": {},
   "outputs": [],
   "source": [
    "# Calculating the Profit Percentage\n",
    "df['Profit%'] = (df['Profit']/df['Sales'])*100"
   ]
  },
  {
   "cell_type": "markdown",
   "id": "78c9bcdb",
   "metadata": {},
   "source": [
    "Here I am Just checking the profit% "
   ]
  },
  {
   "cell_type": "code",
   "execution_count": 13,
   "id": "c155a91c",
   "metadata": {},
   "outputs": [
    {
     "data": {
      "text/html": [
       "<div>\n",
       "<style scoped>\n",
       "    .dataframe tbody tr th:only-of-type {\n",
       "        vertical-align: middle;\n",
       "    }\n",
       "\n",
       "    .dataframe tbody tr th {\n",
       "        vertical-align: top;\n",
       "    }\n",
       "\n",
       "    .dataframe thead th {\n",
       "        text-align: right;\n",
       "    }\n",
       "</style>\n",
       "<table border=\"1\" class=\"dataframe\">\n",
       "  <thead>\n",
       "    <tr style=\"text-align: right;\">\n",
       "      <th></th>\n",
       "      <th>Ship Mode</th>\n",
       "      <th>Segment</th>\n",
       "      <th>Country</th>\n",
       "      <th>City</th>\n",
       "      <th>State</th>\n",
       "      <th>Postal Code</th>\n",
       "      <th>Region</th>\n",
       "      <th>Category</th>\n",
       "      <th>Sub-Category</th>\n",
       "      <th>Sales</th>\n",
       "      <th>Quantity</th>\n",
       "      <th>Discount</th>\n",
       "      <th>Profit</th>\n",
       "      <th>Profit%</th>\n",
       "    </tr>\n",
       "  </thead>\n",
       "  <tbody>\n",
       "    <tr>\n",
       "      <th>0</th>\n",
       "      <td>Second Class</td>\n",
       "      <td>Consumer</td>\n",
       "      <td>United States</td>\n",
       "      <td>Henderson</td>\n",
       "      <td>Kentucky</td>\n",
       "      <td>42420</td>\n",
       "      <td>South</td>\n",
       "      <td>Furniture</td>\n",
       "      <td>Bookcases</td>\n",
       "      <td>261.96</td>\n",
       "      <td>2</td>\n",
       "      <td>0.0</td>\n",
       "      <td>41.9136</td>\n",
       "      <td>16.0</td>\n",
       "    </tr>\n",
       "    <tr>\n",
       "      <th>1</th>\n",
       "      <td>Second Class</td>\n",
       "      <td>Consumer</td>\n",
       "      <td>United States</td>\n",
       "      <td>Henderson</td>\n",
       "      <td>Kentucky</td>\n",
       "      <td>42420</td>\n",
       "      <td>South</td>\n",
       "      <td>Furniture</td>\n",
       "      <td>Chairs</td>\n",
       "      <td>731.94</td>\n",
       "      <td>3</td>\n",
       "      <td>0.0</td>\n",
       "      <td>219.5820</td>\n",
       "      <td>30.0</td>\n",
       "    </tr>\n",
       "    <tr>\n",
       "      <th>2</th>\n",
       "      <td>Second Class</td>\n",
       "      <td>Corporate</td>\n",
       "      <td>United States</td>\n",
       "      <td>Los Angeles</td>\n",
       "      <td>California</td>\n",
       "      <td>90036</td>\n",
       "      <td>West</td>\n",
       "      <td>Office Supplies</td>\n",
       "      <td>Labels</td>\n",
       "      <td>14.62</td>\n",
       "      <td>2</td>\n",
       "      <td>0.0</td>\n",
       "      <td>6.8714</td>\n",
       "      <td>47.0</td>\n",
       "    </tr>\n",
       "  </tbody>\n",
       "</table>\n",
       "</div>"
      ],
      "text/plain": [
       "      Ship Mode    Segment        Country         City       State  \\\n",
       "0  Second Class   Consumer  United States    Henderson    Kentucky   \n",
       "1  Second Class   Consumer  United States    Henderson    Kentucky   \n",
       "2  Second Class  Corporate  United States  Los Angeles  California   \n",
       "\n",
       "   Postal Code Region         Category Sub-Category   Sales  Quantity  \\\n",
       "0        42420  South        Furniture    Bookcases  261.96         2   \n",
       "1        42420  South        Furniture       Chairs  731.94         3   \n",
       "2        90036   West  Office Supplies       Labels   14.62         2   \n",
       "\n",
       "   Discount    Profit  Profit%  \n",
       "0       0.0   41.9136     16.0  \n",
       "1       0.0  219.5820     30.0  \n",
       "2       0.0    6.8714     47.0  "
      ]
     },
     "execution_count": 13,
     "metadata": {},
     "output_type": "execute_result"
    }
   ],
   "source": [
    "df.head(3)"
   ]
  },
  {
   "cell_type": "markdown",
   "id": "01b690ef",
   "metadata": {},
   "source": [
    "Now I am going the plot the counter plot for Segment column because counter plot gives the count of each segements based upon that we can easily know the count of each segement."
   ]
  },
  {
   "cell_type": "code",
   "execution_count": 14,
   "id": "8fe908d9",
   "metadata": {},
   "outputs": [
    {
     "data": {
      "image/png": "[encoded data removed]",
      "text/plain": [
       "<Figure size 432x288 with 1 Axes>"
      ]
     },
     "metadata": {
      "needs_background": "light"
     },
     "output_type": "display_data"
    }
   ],
   "source": [
    "countplot(df['Segment'],\"Count plot for segements\")"
   ]
  },
  {
   "cell_type": "markdown",
   "id": "5b0faf29",
   "metadata": {},
   "source": [
    "Based upon the above plot I came to know that Consumer segement is high compare to other segments"
   ]
  },
  {
   "cell_type": "markdown",
   "id": "d39f9a5f",
   "metadata": {},
   "source": [
    "Now I am going the plot the Profit% for each segement by using the pie-chart function before ploting the data i need to pass the labels and list."
   ]
  },
  {
   "cell_type": "markdown",
   "id": "45f9055d",
   "metadata": {},
   "source": [
    "So here I am going to calculate the labels and list "
   ]
  },
  {
   "cell_type": "code",
   "execution_count": 15,
   "id": "718b1953",
   "metadata": {},
   "outputs": [],
   "source": [
    "# Separating data for analysis\n",
    "superstore_Consumer = df[df['Segment'] == 'Consumer']\n",
    "superstore_Corporate = df[df['Segment'] == 'Corporate']\n",
    "superstore_Home_office = df[df['Segment'] == 'Home Office']\n",
    "\n",
    "labels = ['Consumer','Corporate','Home Office']\n",
    "list = [np.mean(superstore_Consumer['Profit%']),np.mean(superstore_Corporate['Profit%']),np.mean(superstore_Home_office['Profit%'])]"
   ]
  },
  {
   "cell_type": "markdown",
   "id": "c3084658",
   "metadata": {},
   "source": [
    "By using the above calculated labels and list I am going to plot the pie chart because it displays the relative proportions of multiple classes of data."
   ]
  },
  {
   "cell_type": "code",
   "execution_count": 16,
   "id": "0569622a",
   "metadata": {},
   "outputs": [
    {
     "data": {
      "image/png": "[encoded data removed]",
      "text/plain": [
       "<Figure size 432x288 with 1 Axes>"
      ]
     },
     "metadata": {},
     "output_type": "display_data"
    }
   ],
   "source": [
    "pie_chart(labels,list,\"Pie Chart for segements with profit percentage\")"
   ]
  },
  {
   "cell_type": "markdown",
   "id": "287ee9f1",
   "metadata": {},
   "source": [
    "Now I am going to findout the statistics of the profit% columns for consumer segment"
   ]
  },
  {
   "cell_type": "code",
   "execution_count": 17,
   "id": "e9edab02",
   "metadata": {},
   "outputs": [
    {
     "name": "stdout",
     "output_type": "stream",
     "text": [
      "count    5191.000000\n",
      "mean       11.204102\n",
      "std        47.846214\n",
      "min      -275.000000\n",
      "25%         6.250000\n",
      "50%        27.000000\n",
      "75%        36.250000\n",
      "max        50.000000\n",
      "Name: Profit%, dtype: float64\n"
     ]
    }
   ],
   "source": [
    "get_statistics(superstore_Consumer['Profit%'])"
   ]
  },
  {
   "cell_type": "markdown",
   "id": "7b92dc0c",
   "metadata": {},
   "source": [
    "Now I am going to findout the bar graph for Profit Percentage and Profit Percentage by Sub Category"
   ]
  },
  {
   "cell_type": "markdown",
   "id": "bb57c2d8",
   "metadata": {},
   "source": [
    "For this first I need to findout the Profit y_pos and list for getting the graph"
   ]
  },
  {
   "cell_type": "code",
   "execution_count": 18,
   "id": "72e3c768",
   "metadata": {},
   "outputs": [
    {
     "data": {
      "text/html": [
       "<div>\n",
       "<style scoped>\n",
       "    .dataframe tbody tr th:only-of-type {\n",
       "        vertical-align: middle;\n",
       "    }\n",
       "\n",
       "    .dataframe tbody tr th {\n",
       "        vertical-align: top;\n",
       "    }\n",
       "\n",
       "    .dataframe thead th {\n",
       "        text-align: right;\n",
       "    }\n",
       "</style>\n",
       "<table border=\"1\" class=\"dataframe\">\n",
       "  <thead>\n",
       "    <tr style=\"text-align: right;\">\n",
       "      <th></th>\n",
       "      <th>Profit%</th>\n",
       "    </tr>\n",
       "    <tr>\n",
       "      <th>Sub-Category</th>\n",
       "      <th></th>\n",
       "    </tr>\n",
       "  </thead>\n",
       "  <tbody>\n",
       "    <tr>\n",
       "      <th>Accessories</th>\n",
       "      <td>20.453606</td>\n",
       "    </tr>\n",
       "    <tr>\n",
       "      <th>Appliances</th>\n",
       "      <td>-20.997268</td>\n",
       "    </tr>\n",
       "    <tr>\n",
       "      <th>Art</th>\n",
       "      <td>24.722547</td>\n",
       "    </tr>\n",
       "    <tr>\n",
       "      <th>Binders</th>\n",
       "      <td>-21.393269</td>\n",
       "    </tr>\n",
       "    <tr>\n",
       "      <th>Bookcases</th>\n",
       "      <td>-15.949371</td>\n",
       "    </tr>\n",
       "    <tr>\n",
       "      <th>Chairs</th>\n",
       "      <td>4.266705</td>\n",
       "    </tr>\n",
       "    <tr>\n",
       "      <th>Copiers</th>\n",
       "      <td>29.128571</td>\n",
       "    </tr>\n",
       "    <tr>\n",
       "      <th>Envelopes</th>\n",
       "      <td>41.767442</td>\n",
       "    </tr>\n",
       "    <tr>\n",
       "      <th>Fasteners</th>\n",
       "      <td>31.754386</td>\n",
       "    </tr>\n",
       "    <tr>\n",
       "      <th>Furnishings</th>\n",
       "      <td>13.325911</td>\n",
       "    </tr>\n",
       "    <tr>\n",
       "      <th>Labels</th>\n",
       "      <td>43.748677</td>\n",
       "    </tr>\n",
       "    <tr>\n",
       "      <th>Machines</th>\n",
       "      <td>-5.443191</td>\n",
       "    </tr>\n",
       "    <tr>\n",
       "      <th>Paper</th>\n",
       "      <td>42.588023</td>\n",
       "    </tr>\n",
       "    <tr>\n",
       "      <th>Phones</th>\n",
       "      <td>12.109110</td>\n",
       "    </tr>\n",
       "    <tr>\n",
       "      <th>Storage</th>\n",
       "      <td>8.098889</td>\n",
       "    </tr>\n",
       "    <tr>\n",
       "      <th>Supplies</th>\n",
       "      <td>10.577500</td>\n",
       "    </tr>\n",
       "    <tr>\n",
       "      <th>Tables</th>\n",
       "      <td>-15.822772</td>\n",
       "    </tr>\n",
       "  </tbody>\n",
       "</table>\n",
       "</div>"
      ],
      "text/plain": [
       "                Profit%\n",
       "Sub-Category           \n",
       "Accessories   20.453606\n",
       "Appliances   -20.997268\n",
       "Art           24.722547\n",
       "Binders      -21.393269\n",
       "Bookcases    -15.949371\n",
       "Chairs         4.266705\n",
       "Copiers       29.128571\n",
       "Envelopes     41.767442\n",
       "Fasteners     31.754386\n",
       "Furnishings   13.325911\n",
       "Labels        43.748677\n",
       "Machines      -5.443191\n",
       "Paper         42.588023\n",
       "Phones        12.109110\n",
       "Storage        8.098889\n",
       "Supplies      10.577500\n",
       "Tables       -15.822772"
      ]
     },
     "execution_count": 18,
     "metadata": {},
     "output_type": "execute_result"
    }
   ],
   "source": [
    "#Calculating the Average_profit for each sub-category\n",
    "average_profit = superstore_Consumer.groupby('Sub-Category')['Profit%'].mean()\n",
    "average_profit = pd.DataFrame(average_profit)\n",
    "average_profit"
   ]
  },
  {
   "cell_type": "code",
   "execution_count": 19,
   "id": "09389cd6",
   "metadata": {},
   "outputs": [],
   "source": [
    "objects = average_profit.index\n",
    "\n",
    "y_pos = np.arange(len(objects))\n",
    "performance = average_profit['Profit%']\n"
   ]
  },
  {
   "cell_type": "markdown",
   "id": "17d0c9cc",
   "metadata": {},
   "source": [
    "Here I am going to plot the Bar graph by using the above calculated values. While telling the story on data for non technical persons also bar graph provides good understanding about data."
   ]
  },
  {
   "cell_type": "code",
   "execution_count": 22,
   "id": "999965eb",
   "metadata": {},
   "outputs": [
    {
     "data": {
      "image/png": "[encoded data removed]",
      "text/plain": [
       "<Figure size 864x432 with 1 Axes>"
      ]
     },
     "metadata": {
      "needs_background": "light"
     },
     "output_type": "display_data"
    }
   ],
   "source": [
    "bargraph(y_pos,performance,objects,\"Profit percentage\",\"Profit Percentage by Sub Category\",0.5,\"Bar Garph for profit% of each  sub category\")"
   ]
  },
  {
   "cell_type": "markdown",
   "id": "a4508aba",
   "metadata": {},
   "source": [
    "Based upon the above plot I came to know that Tables, Machines,Bookcases,Binders and Appliances making the negative profit"
   ]
  },
  {
   "cell_type": "markdown",
   "id": "29cab1de",
   "metadata": {},
   "source": [
    "Now I am going to findout the in which region more negative profit is occurs using boxplot. The advantage of boxplot is it spreads the data points based upon range. so we can clearly observe the data points."
   ]
  },
  {
   "cell_type": "code",
   "execution_count": 24,
   "id": "7bb4270c",
   "metadata": {},
   "outputs": [
    {
     "data": {
      "image/png": "[encoded data removed]",
      "text/plain": [
       "<Figure size 432x288 with 1 Axes>"
      ]
     },
     "metadata": {
      "needs_background": "light"
     },
     "output_type": "display_data"
    }
   ],
   "source": [
    "boxplot(\"Region\",\"Profit%\",df,\"Profit Margin for regions\")"
   ]
  },
  {
   "cell_type": "markdown",
   "id": "03270c07",
   "metadata": {},
   "source": [
    "Especially In Central region we observe the negative profit margin"
   ]
  },
  {
   "cell_type": "code",
   "execution_count": null,
   "id": "c066a976",
   "metadata": {},
   "outputs": [],
   "source": []
  },
  {
   "cell_type": "code",
   "execution_count": null,
   "id": "a25e7dab",
   "metadata": {},
   "outputs": [],
   "source": []
  }
 ],
 "metadata": {
  "kernelspec": {
   "display_name": "Python 3.7",
   "language": "python",
   "name": "py37"
  },
  "language_info": {
   "codemirror_mode": {
    "name": "ipython",
    "version": 3
   },
   "file_extension": ".py",
   "mimetype": "text/x-python",
   "name": "python",
   "nbconvert_exporter": "python",
   "pygments_lexer": "ipython3",
   "version": "3.8.8"
  }
 },
 "nbformat": 4,
 "nbformat_minor": 5
}
